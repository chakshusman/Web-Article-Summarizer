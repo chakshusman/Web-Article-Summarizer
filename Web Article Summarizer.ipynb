{
 "cells": [
  {
   "cell_type": "code",
   "execution_count": 1,
   "id": "58e925f7",
   "metadata": {},
   "outputs": [
    {
     "name": "stdout",
     "output_type": "stream",
     "text": [
      "Collecting gensim==3.8.3\n",
      "  Downloading gensim-3.8.3.tar.gz (23.4 MB)\n",
      "\u001b[2K     \u001b[90m━━━━━━━━━━━━━━━━━━━━━━━━━━━━━━━━━━━━━━━━\u001b[0m \u001b[32m23.4/23.4 MB\u001b[0m \u001b[31m26.2 MB/s\u001b[0m eta \u001b[36m0:00:00\u001b[0m00:01\u001b[0m00:01\u001b[0m\n",
      "\u001b[?25h  Preparing metadata (setup.py) ... \u001b[?25ldone\n",
      "\u001b[?25hRequirement already satisfied: numpy>=1.11.3 in ./opt/anaconda3/envs/DS/lib/python3.9/site-packages (from gensim==3.8.3) (1.23.3)\n",
      "Requirement already satisfied: scipy>=0.18.1 in ./opt/anaconda3/envs/DS/lib/python3.9/site-packages (from gensim==3.8.3) (1.9.3)\n",
      "Requirement already satisfied: six>=1.5.0 in ./opt/anaconda3/envs/DS/lib/python3.9/site-packages (from gensim==3.8.3) (1.16.0)\n",
      "Collecting smart_open>=1.8.1\n",
      "  Downloading smart_open-6.4.0-py3-none-any.whl (57 kB)\n",
      "\u001b[2K     \u001b[90m━━━━━━━━━━━━━━━━━━━━━━━━━━━━━━━━━━━━━━━━\u001b[0m \u001b[32m57.0/57.0 kB\u001b[0m \u001b[31m7.2 MB/s\u001b[0m eta \u001b[36m0:00:00\u001b[0m\n",
      "\u001b[?25hBuilding wheels for collected packages: gensim\n",
      "  Building wheel for gensim (setup.py) ... \u001b[?25ldone\n",
      "\u001b[?25h  Created wheel for gensim: filename=gensim-3.8.3-cp39-cp39-macosx_10_9_x86_64.whl size=24173329 sha256=48ba9d4effd99b86cb3afeb5efac6310bffdd6e7b724b7c8634aaa8cb087edda\n",
      "  Stored in directory: /Users/chaksmishra/Library/Caches/pip/wheels/ca/5d/af/618594ec2f28608c1d6ee7d2b7e95a3e9b06551e3b80a491d6\n",
      "Successfully built gensim\n",
      "Installing collected packages: smart_open, gensim\n",
      "Successfully installed gensim-3.8.3 smart_open-6.4.0\n",
      "Note: you may need to restart the kernel to use updated packages.\n"
     ]
    }
   ],
   "source": [
    "pip install gensim==3.8.3"
   ]
  },
  {
   "cell_type": "code",
   "execution_count": 6,
   "id": "6626cf73",
   "metadata": {},
   "outputs": [
    {
     "name": "stdout",
     "output_type": "stream",
     "text": [
      "Collecting newspaper3k\n",
      "  Using cached newspaper3k-0.2.8-py3-none-any.whl (211 kB)\n",
      "Requirement already satisfied: requests>=2.10.0 in ./opt/anaconda3/envs/DS/lib/python3.9/site-packages (from newspaper3k) (2.28.1)\n",
      "Collecting feedparser>=5.2.1\n",
      "  Using cached feedparser-6.0.10-py3-none-any.whl (81 kB)\n",
      "Collecting tldextract>=2.0.1\n",
      "  Downloading tldextract-5.1.0-py3-none-any.whl (97 kB)\n",
      "\u001b[2K     \u001b[90m━━━━━━━━━━━━━━━━━━━━━━━━━━━━━━━━━━━━━━━━\u001b[0m \u001b[32m97.7/97.7 kB\u001b[0m \u001b[31m1.4 MB/s\u001b[0m eta \u001b[36m0:00:00\u001b[0ma \u001b[36m0:00:01\u001b[0m\n",
      "\u001b[?25hCollecting nltk>=3.2.1\n",
      "  Downloading nltk-3.8.1-py3-none-any.whl (1.5 MB)\n",
      "\u001b[2K     \u001b[90m━━━━━━━━━━━━━━━━━━━━━━━━━━━━━━━━━━━━━━━━\u001b[0m \u001b[32m1.5/1.5 MB\u001b[0m \u001b[31m10.6 MB/s\u001b[0m eta \u001b[36m0:00:00\u001b[0ma \u001b[36m0:00:01\u001b[0m\n",
      "\u001b[?25hRequirement already satisfied: Pillow>=3.3.0 in ./opt/anaconda3/envs/DS/lib/python3.9/site-packages (from newspaper3k) (9.3.0)\n",
      "Collecting cssselect>=0.9.2\n",
      "  Downloading cssselect-1.2.0-py2.py3-none-any.whl (18 kB)\n",
      "Collecting PyYAML>=3.11\n",
      "  Downloading PyYAML-6.0.1-cp39-cp39-macosx_10_9_x86_64.whl (197 kB)\n",
      "\u001b[2K     \u001b[90m━━━━━━━━━━━━━━━━━━━━━━━━━━━━━━━━━━━━━━━\u001b[0m \u001b[32m197.8/197.8 kB\u001b[0m \u001b[31m3.6 MB/s\u001b[0m eta \u001b[36m0:00:00\u001b[0m-:--:--\u001b[0m\n",
      "\u001b[?25hRequirement already satisfied: lxml>=3.6.0 in ./opt/anaconda3/envs/DS/lib/python3.9/site-packages (from newspaper3k) (4.9.1)\n",
      "Requirement already satisfied: beautifulsoup4>=4.4.1 in ./opt/anaconda3/envs/DS/lib/python3.9/site-packages (from newspaper3k) (4.11.1)\n",
      "Requirement already satisfied: python-dateutil>=2.5.3 in ./opt/anaconda3/envs/DS/lib/python3.9/site-packages (from newspaper3k) (2.8.2)\n",
      "Collecting jieba3k>=0.35.1\n",
      "  Using cached jieba3k-0.35.1-py3-none-any.whl\n",
      "Collecting tinysegmenter==0.3\n",
      "  Using cached tinysegmenter-0.3-py3-none-any.whl\n",
      "Collecting feedfinder2>=0.0.4\n",
      "  Using cached feedfinder2-0.0.4-py3-none-any.whl\n",
      "Requirement already satisfied: soupsieve>1.2 in ./opt/anaconda3/envs/DS/lib/python3.9/site-packages (from beautifulsoup4>=4.4.1->newspaper3k) (2.3.2.post1)\n",
      "Requirement already satisfied: six in ./opt/anaconda3/envs/DS/lib/python3.9/site-packages (from feedfinder2>=0.0.4->newspaper3k) (1.16.0)\n",
      "Collecting sgmllib3k\n",
      "  Using cached sgmllib3k-1.0.0-py3-none-any.whl\n",
      "Requirement already satisfied: joblib in ./opt/anaconda3/envs/DS/lib/python3.9/site-packages (from nltk>=3.2.1->newspaper3k) (1.1.1)\n",
      "Collecting click\n",
      "  Downloading click-8.1.7-py3-none-any.whl (97 kB)\n",
      "\u001b[2K     \u001b[90m━━━━━━━━━━━━━━━━━━━━━━━━━━━━━━━━━━━━━━━━\u001b[0m \u001b[32m97.9/97.9 kB\u001b[0m \u001b[31m6.4 MB/s\u001b[0m eta \u001b[36m0:00:00\u001b[0m\n",
      "\u001b[?25hCollecting tqdm\n",
      "  Downloading tqdm-4.66.1-py3-none-any.whl (78 kB)\n",
      "\u001b[2K     \u001b[90m━━━━━━━━━━━━━━━━━━━━━━━━━━━━━━━━━━━━━━━━\u001b[0m \u001b[32m78.3/78.3 kB\u001b[0m \u001b[31m5.7 MB/s\u001b[0m eta \u001b[36m0:00:00\u001b[0m\n",
      "\u001b[?25hCollecting regex>=2021.8.3\n",
      "  Downloading regex-2023.10.3-cp39-cp39-macosx_10_9_x86_64.whl (296 kB)\n",
      "\u001b[2K     \u001b[90m━━━━━━━━━━━━━━━━━━━━━━━━━━━━━━━━━━━━━━\u001b[0m \u001b[32m296.4/296.4 kB\u001b[0m \u001b[31m16.4 MB/s\u001b[0m eta \u001b[36m0:00:00\u001b[0m\n",
      "\u001b[?25hRequirement already satisfied: idna<4,>=2.5 in ./opt/anaconda3/envs/DS/lib/python3.9/site-packages (from requests>=2.10.0->newspaper3k) (3.4)\n",
      "Requirement already satisfied: charset-normalizer<3,>=2 in ./opt/anaconda3/envs/DS/lib/python3.9/site-packages (from requests>=2.10.0->newspaper3k) (2.1.1)\n",
      "Requirement already satisfied: certifi>=2017.4.17 in ./opt/anaconda3/envs/DS/lib/python3.9/site-packages (from requests>=2.10.0->newspaper3k) (2022.9.24)\n",
      "Requirement already satisfied: urllib3<1.27,>=1.21.1 in ./opt/anaconda3/envs/DS/lib/python3.9/site-packages (from requests>=2.10.0->newspaper3k) (1.26.12)\n",
      "Collecting requests-file>=1.4\n",
      "  Downloading requests_file-1.5.1-py2.py3-none-any.whl (3.7 kB)\n",
      "Collecting filelock>=3.0.8\n",
      "  Downloading filelock-3.13.1-py3-none-any.whl (11 kB)\n",
      "Installing collected packages: tinysegmenter, sgmllib3k, jieba3k, tqdm, regex, PyYAML, filelock, feedparser, cssselect, click, requests-file, nltk, feedfinder2, tldextract, newspaper3k\n",
      "Successfully installed PyYAML-6.0.1 click-8.1.7 cssselect-1.2.0 feedfinder2-0.0.4 feedparser-6.0.10 filelock-3.13.1 jieba3k-0.35.1 newspaper3k-0.2.8 nltk-3.8.1 regex-2023.10.3 requests-file-1.5.1 sgmllib3k-1.0.0 tinysegmenter-0.3 tldextract-5.1.0 tqdm-4.66.1\n",
      "Note: you may need to restart the kernel to use updated packages.\n"
     ]
    }
   ],
   "source": [
    "pip install newspaper3k"
   ]
  },
  {
   "cell_type": "code",
   "execution_count": 1,
   "id": "aea7810c",
   "metadata": {},
   "outputs": [],
   "source": [
    "import newspaper\n",
    "from newspaper import Article\n",
    "from gensim.summarization import summarize"
   ]
  },
  {
   "cell_type": "code",
   "execution_count": 2,
   "id": "6e3f542d",
   "metadata": {},
   "outputs": [],
   "source": [
    "def scrape_articles(url, num_articles=5):\n",
    "    news_source = newspaper.build(url, memoize_articles=False)\n",
    "    articles = []\n",
    "\n",
    "    for i in range(min(num_articles, len(news_source.articles))):\n",
    "        article = news_source.articles[i]\n",
    "        article.download()\n",
    "        article.parse()\n",
    "        articles.append(article)\n",
    "\n",
    "    return articles"
   ]
  },
  {
   "cell_type": "code",
   "execution_count": 3,
   "id": "6e742717",
   "metadata": {},
   "outputs": [],
   "source": [
    "def summarize_articles(articles, ratio=0.2):\n",
    "    summaries = []\n",
    "\n",
    "    for article in articles:\n",
    "        content = article.text\n",
    "        summary = summarize(content, ratio=ratio)\n",
    "        summaries.append(summary)\n",
    "\n",
    "    return summaries\n"
   ]
  },
  {
   "cell_type": "code",
   "execution_count": 4,
   "id": "39518e46",
   "metadata": {},
   "outputs": [],
   "source": [
    "def display_summaries(articles, summaries):\n",
    "    for i in range(len(articles)):\n",
    "        print(f\"Article {i + 1}: {articles[i].title}\")\n",
    "        print(\"Summary:\")\n",
    "        print(summaries[i])\n",
    "        print(\"\\n\")"
   ]
  },
  {
   "cell_type": "code",
   "execution_count": 8,
   "id": "b754db48",
   "metadata": {},
   "outputs": [
    {
     "name": "stdout",
     "output_type": "stream",
     "text": [
      "Article 1: Blinken says \"more needs to be done\" to protect Palestinians, after Israel agrees to daily pauses in fighting\n",
      "Summary:\n",
      "U.S. Secretary of State Antony Blinken said on Friday he welcomed Israel's agreeing to daily humanitarian pauses in its offensive in northern Gaza but that more needed to be done.\n",
      "Fighting has raged in northern Gaza since gunmen from the Islamist group Hamas poured over the border into Israel and, according to Israeli officials, killed 1,400 people and seized about 240 hostages in the worst attack in the country's history.\n",
      "Israel retaliated with an aerial bombing and ground offensive that the health ministry in the Hamas-run Gaza Strip says has killed more than 10,800 people, many of them children.\n",
      "The Hamas government said Friday that an Israeli strike on the territory's largest hospital killed 13 people.\n",
      "The Hamas-run Gaza Health Ministry said Friday that Israeli tanks were also surrounding two children's hospitals in northern Gaza.\n",
      "\n",
      "\n",
      "Article 2: The IRS just announced new tax brackets. Here's how to see yours.\n",
      "Summary:\n",
      "The IRS is introducing new income limits for its seven tax brackets, adjusting the thresholds to account for the impact of inflation.\n",
      "The IRS increased its tax brackets by about 5.4% for each type of tax filer for 2024, such as those filing separately or as married couples.\n",
      "The new standard deduction for married couples filing jointly will rise to $29,200, an increase of $1,500 from the current tax year.\n",
      "Single taxpayers and married individuals filing separately will have a standard deduction of $14,600, an increase of $750 from the current tax year.\n",
      "You can check your marginal tax bracket by determining your highest taxable income.\n",
      "\n",
      "\n",
      "Article 3: Israel says these photos show how Hamas places weapons in and near U.N. facilities in Gaza, including schools\n",
      "Summary:\n",
      "United Nations — Israel has accused the Palestinian militant group Hamas of committing \"double war crimes\" by not only firing rockets at civilians, but firing them from and near United Nations-run facilities in the Gaza Strip that should be \"out of bounds\" — and at least one senior U.N. official who spoke with CBS News agrees.\n",
      "Hamas' use of civilians as human shields in Gaza was confirmed during the last major conflict in 2014, but its use of U.N. facilities to house and launch weapons has increased over the last eight years, putting U.N. staff and other civilians at greater risk, Israeli officials say.\n",
      "Jonathan Conricus told CBS News that Israel's forces have seen \"a systemic abuse by Hamas of sites and locations that are supposed to enjoy special protection under the Geneva Convention and humanitarian law,\" including not only U.N. facilities, but other schools, clinics, mosques, churches and hospitals.\n",
      "U.N. facilities are \"supposed to be out of bounds, according to the law of armed conflict, and specially protected,\" Conricus said, calling Hamas' use of U.N. locations \"a double war crime.\"\n",
      "The IDF shared three recent photos with CBS News, including one that it said showed a Hamas rocket launching site positioned in a UNRWA warehouse facility in southern Gaza, and another very close to an UNRWA-run school.\n",
      "Israel Defense Forces officials say this photo shows a Hamas rocket launch site located in a diplomatic building near a U.N. school in Gaza.\n",
      "Israel Defense Forces officials say this photo shows a Hamas rocket launch site located inside a U.N. building in Gaza.\n",
      "During the group's last major war with Israel, between 2012 and 2014, a U.N. inquiry found weapons had been placed inside an UNRWA school in the Hamas-run Gaza Strip and that it was highly likely that an unidentified Palestinian armed group could have used the school premises to launch attacks.\n",
      "\"According to our intelligence, not only is it happening but it has been expanded over the years, tunnels underneath U.N. facilities, rocket launchers next to or very — just within the compounds of U.N. facilities, and the general endangering of U.N. staff and U.N. facilities by Hamas, systematically,\" Conricus told CBS News.\n",
      "\"Hamas and other militants use civilians as human shields and continue to launch rockets indiscriminately towards Israel,\" U.N. Secretary-General Antonio Guterres said this week.\n",
      "\n",
      "\n"
     ]
    }
   ],
   "source": [
    "url_to_scrape = 'https://www.cbsnews.com/' \n",
    "num_articles_to_scrape = 3\n",
    "\n",
    "articles_to_summarize = scrape_articles(url_to_scrape, num_articles=num_articles_to_scrape)\n",
    "summaries = summarize_articles(articles_to_summarize)\n",
    "display_summaries(articles_to_summarize, summaries)"
   ]
  },
  {
   "cell_type": "code",
   "execution_count": null,
   "id": "585caa21",
   "metadata": {},
   "outputs": [],
   "source": []
  }
 ],
 "metadata": {
  "kernelspec": {
   "display_name": "Python 3 (ipykernel)",
   "language": "python",
   "name": "python3"
  },
  "language_info": {
   "codemirror_mode": {
    "name": "ipython",
    "version": 3
   },
   "file_extension": ".py",
   "mimetype": "text/x-python",
   "name": "python",
   "nbconvert_exporter": "python",
   "pygments_lexer": "ipython3",
   "version": "3.9.12"
  }
 },
 "nbformat": 4,
 "nbformat_minor": 5
}
